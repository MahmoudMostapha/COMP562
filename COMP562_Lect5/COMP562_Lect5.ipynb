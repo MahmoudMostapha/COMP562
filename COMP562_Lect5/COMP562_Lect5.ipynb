{
 "cells": [
  {
   "cell_type": "markdown",
   "metadata": {},
   "source": [
    "# <center> COMP 562 : Inroduction to Machine Learning </center>\n",
    "## <center> <font color='red'>Lecture 5 : Feature Scaling, Logistic Regression </font> </center> \n",
    "### <center> Mahmoud Mostapha </center> \n",
    "### <center> Department of Computer Science -- UNC Chapel Hill</center>\n",
    "###  <center> September 10, 2018 </center>"
   ]
  },
  {
   "cell_type": "markdown",
   "metadata": {
    "slideshow": {
     "slide_type": "slide"
    }
   },
   "source": [
    "# COMP 562 – Lecture 5\n",
    "\n",
    "Plan for today\n",
    "\n",
    "1. Review closed form linear regression, ridge regression\n",
    "2. Introduce sigmoid function\n",
    "3. Logistic regression \n",
    "4. Geometric view of logistic regression -- separating hyperplanes\n",
    "\n",
    "$$\n",
    "\\renewcommand{\\xx}{\\mathbf{x}}\n",
    "\\renewcommand{\\yy}{\\mathbf{y}}\n",
    "\\renewcommand{\\zz}{\\mathbf{z}}\n",
    "\\renewcommand{\\vv}{\\mathbf{v}}\n",
    "\\renewcommand{\\loglik}{\\log\\mathcal{L}}\n",
    "\\renewcommand{\\likelihood}{\\mathcal{L}}\n",
    "\\renewcommand{\\Data}{\\textrm{Data}}\n",
    "\\renewcommand{\\given}{ | }\n",
    "\\renewcommand{\\MLE}{\\textrm{MLE}}\n",
    "\\renewcommand{\\tth}{\\textrm{th}}\n",
    "\\renewcommand{\\Gaussian}[2]{\\mathcal{N}\\left(#1,#2\\right)}\n",
    "\\renewcommand{\\norm}[1]{\\left\\lVert#1\\right\\rVert}\n",
    "\\renewcommand{\\ones}{\\mathbf{1}}\n",
    "\\renewcommand{\\diag}[1]{\\textrm{diag}\\left( #1 \\right)}\n",
    "\\renewcommand{\\sigmoid}[1]{\\sigma\\left(#1\\right)}\n",
    "\\renewcommand{\\myexp}[1]{\\exp\\left\\{#1\\right\\}}\n",
    "$$"
   ]
  },
  {
   "cell_type": "markdown",
   "metadata": {
    "slideshow": {
     "slide_type": "slide"
    }
   },
   "source": [
    "# Last time -- Closed Form Solution for Linear Regression\n",
    "\n",
    "In matrix form, we can rewrite this model as \n",
    "\n",
    "$$\n",
    "\\left[\\begin{array}{c} { y_1 \\\\ y_2 \\\\ \\vdots \\\\ y_N}\\end{array}\\right]_{\\ N \\times 1} = \\left[\\begin{array}{ccccc} 1  & x_{11} & x_{12} & \\ldots & x_{1p} \\\\ 1  & x_{21} & x_{22} & \\ldots & x_{2p} \\\\ \\vdots  & \\vdots & \\vdots & \\ldots & \\vdots \\\\ 1  & x_{N1} & x_{N2} & \\ldots & x_{Np} \\end{array}\\right]_{\\ N \\times p+1} \\left[\\begin{array}{c} \\ { \\beta_0 \\\\ \\beta_1 \\\\ \\vdots \\\\ \\beta_P}\\end{array}\\right]_{\\ p+1 \\times 1} \\ + \\left[\\begin{array}{c} \\ { \\epsilon_1 \\\\ \\epsilon_2 \\\\ \\vdots \\\\ \\epsilon_N}\\end{array}\\right]_{\\ N \\times 1}\n",
    "$$\n",
    "\n",
    "This can be rewritten more simply as:\n",
    "\n",
    "$$\n",
    "\\yy = \\mathbf{X} \\mathbf{\\beta} + \\mathbf{\\epsilon}\n",
    "$$\n",
    "\n",
    "Once we compute $\\beta^{\\MLE}$, we can get $(\\sigma^2)^\\MLE$ in closed form\n",
    "\n",
    "$$\n",
    "(\\sigma^{2})^\\MLE = \\frac{1}{N} (\\yy -  \\mathbf{X} \\beta^\\MLE)^T(\\yy -  \\mathbf{X} \\beta^\\MLE)  = \\frac{1}{N} \\sum_{i=1}^N \\left(y_i - (\\beta_0^\\MLE + \\sum_{j=1}^p x_{i,j} \\beta_j^\\MLE)\\right)^2\n",
    "$$"
   ]
  },
  {
   "cell_type": "markdown",
   "metadata": {
    "slideshow": {
     "slide_type": "slide"
    }
   },
   "source": [
    "# Last time -- Regularization\n",
    "\n",
    "Ill-posed problems have many solutions\n",
    "\n",
    "One way to break the ties between different solutions is to add regularization\n",
    "\n",
    "Ridge regression is adds regularization to the log-likelihood:\n",
    "\n",
    "$$\n",
    "\\loglik(\\beta\\given\\yy,\\xx) =  -\\frac{1}{2\\sigma^2}\\norm{\\yy - \\mathbf{X} \\mathbf{\\beta}}^2  \\underbrace{-\\frac{\\lambda}{2}\\norm{\\beta}^2}_{\\textrm{ridge penalty}}+ \\textrm{const.}\n",
    "$$\n",
    "\n",
    "Using this regularization spreads the weights between correlated predictors \n",
    "\n",
    "Setting $\\lambda=0$ recovers the linear regression log-likelihood"
   ]
  },
  {
   "cell_type": "markdown",
   "metadata": {
    "slideshow": {
     "slide_type": "slide"
    }
   },
   "source": [
    "# Last time -- Closed Form Solution for Ridge Regression\n",
    "\n",
    "Our closed form solution for ridge regression\n",
    "\n",
    "$$\n",
    "\\beta^{\\MLE} = (\\mathbf{X}^T\\mathbf{X} + \\color{red}{\\lambda\\sigma^2 \\mathbf{I}_N})^{-1}(\\mathbf{X}^T\\yy)\n",
    "$$\n",
    "\n",
    "The only difference between the closed form of linear regression and ridge regression is the addition of the term shown in red.\n",
    "\n",
    "The bias/intercept coefficient $\\beta_0$ is typically not regularized in a linear regression\n",
    "\n",
    "Updating our closed form solution without regularizing $\\beta_0$ will yeild\n",
    "\n",
    "$$\n",
    "\\beta^{\\MLE} = \\left(\\mathbf{X}^T\\mathbf{X} + \\color{red}{\\lambda\\sigma^2 \\left[\\begin{array}{ccccc} 0  & 0 & 0 & \\ldots & 0 \\\\ 0  & 1 & 0 & \\ldots & 0 \\\\ \\vdots  & \\vdots & \\vdots & \\ldots & \\vdots \\\\ 0  & 0 & 0 & \\ldots & 1 \\end{array}\\right]_{\\ N \\times N}}\\right)^{-1}(\\mathbf{X}^T\\yy)\n",
    "$$"
   ]
  },
  {
   "cell_type": "markdown",
   "metadata": {
    "slideshow": {
     "slide_type": "slide"
    }
   },
   "source": [
    "# Feature Scaling -- Feature Scaling\n",
    "\n",
    "* Idea: gradient ascent/descentalgorithm tends to work better if the features are on the **same scale** \n",
    "\n",
    "<img src=\"./Images/Scaling.png\" align=\"center\"/>\n",
    "\n",
    "When contours are skewed then learning steps would take longer to converge due to oscillatory behaviour"
   ]
  },
  {
   "cell_type": "markdown",
   "metadata": {
    "collapsed": true,
    "slideshow": {
     "slide_type": "slide"
    }
   },
   "source": [
    "# Feature Scaling -- Centering\n",
    "\n",
    "**Center** features by removing the mean\n",
    "\n",
    "$$\n",
    "\\begin{aligned}\n",
    "\\mu_i &= \\frac{1}{N}\\sum_{k=1}^N x_{i,k}\\\\ \\\\\n",
    "x_{i,j} &= x_{i,j} - \\mu_i\n",
    "\\end{aligned}\n",
    "$$\n",
    "\n",
    "This makes each feature's mean equal to 0. Compute the mean first, then subtract it!\n"
   ]
  },
  {
   "cell_type": "markdown",
   "metadata": {
    "collapsed": true,
    "slideshow": {
     "slide_type": "slide"
    }
   },
   "source": [
    "# Feature Scaling -- Standardizing\n",
    "\n",
    "\n",
    "**Standardize** centered features by dividing by the standard deviation\n",
    "\n",
    "$$\n",
    "\\begin{aligned}\n",
    "\\sigma_i &= \\sqrt{ \\frac{1}{N-1}\\sum_j x_{i,j}^2 }\\\\ \\\\\n",
    "x_{i,j}& = \\frac{x_{i,j}}{\\sigma_i}\n",
    "\\end{aligned}\n",
    "$$\n",
    "\n",
    "Note that standardized features are first centered and then divided by their standard deviation\n",
    "\n",
    "Transform your data to a distribution that has a mean of 0 and a standard deviation of 1 (z-score)"
   ]
  },
  {
   "cell_type": "markdown",
   "metadata": {
    "collapsed": true,
    "slideshow": {
     "slide_type": "slide"
    }
   },
   "source": [
    "# Feature Scaling -- Normalizing\n",
    "\n",
    "Alternatively, **normalize** centered features by dividing by their norm\n",
    "\n",
    "$$\n",
    "\\begin{aligned}\n",
    "r_i &= \\sqrt{\\sum_j x_{i,j}^2 }\\\\ \\\\\n",
    "x_{i,j}& = \\frac{x_{i,j}}{r_i}\n",
    "\\end{aligned}\n",
    "$$\n",
    "\n",
    "Note that normalized features are first centered and then divided by their norm\n",
    "\n",
    "Normalization transforms your data into a range between 0 and 1 regardless of the data set size"
   ]
  },
  {
   "cell_type": "markdown",
   "metadata": {
    "slideshow": {
     "slide_type": "slide"
    }
   },
   "source": [
    "# Feature Scaling Benefits\n",
    "\n",
    "1. Centering \n",
    "  1. $\\beta_0$ is equal to the mean of the target variable \n",
    "  2. Feature weights $\\beta$ now tell us how much does feature's departure from mean affect the target variable \n",
    "2. Standardization\n",
    "  1. All the features are on the same scale and their effects comparable\n",
    "  2. Interpretation is easier: $\\beta$s tell us how much departure by single standard deviation affects the target variable  \n",
    "3. Normalization\n",
    "  1. Scale of features is the same, regardles of the size of the dataset\n",
    "  2. Hence weights learend on different sized datasets can be compared\n",
    "  3. However, their combination might be problematic -- certainly we don't trust weights learned on few samples"
   ]
  },
  {
   "cell_type": "markdown",
   "metadata": {
    "collapsed": true,
    "slideshow": {
     "slide_type": "slide"
    }
   },
   "source": [
    "# Classification\n",
    "\n",
    "* Tumor: Malignant / Bnign ? -- $y \\in \\{0,1\\}$ \n",
    "    * $y$: \"Negative Class\" (e.g., benign tumor)\n",
    "    * $y$: \"Positive Class\" (e.g., malignant tumor)\n",
    "    \n",
    "\n",
    "<img src=\"./Images/LR.png\" width=\"700\" align=\"center\"/>\n",
    "\n",
    "* Threshold classifier output $\\hat{y}$ at 0.5:\n",
    "    * If $\\hat{y}$ $\\geq$ 0.5, then predict \"$y$ = 1\"\n",
    "    * If $\\hat{y}$ $<$ 0.5, then predict \"$y$ = 0\"      \n",
    "    \n",
    "**<font color='red'> Q: What would be the problem with using linear regression for a classification task?  </font>**"
   ]
  },
  {
   "cell_type": "markdown",
   "metadata": {
    "slideshow": {
     "slide_type": "slide"
    }
   },
   "source": [
    "<img src=\"./Images/LR2.png\" width=\"1000\" align=\"center\"/>"
   ]
  },
  {
   "cell_type": "markdown",
   "metadata": {
    "slideshow": {
     "slide_type": "fragment"
    }
   },
   "source": [
    "We need to modify our linear regression model to perform the required classification task\n",
    "\n",
    "Remember: we used linear regression to fit a predictive model of continuous variables:\n",
    "\n",
    "$$\n",
    "y\\given\\xx \\sim \\Gaussian{\\beta_0 + \\xx^T\\beta}{\\sigma^2}\n",
    "$$\n",
    "\n",
    "**<font color='red'> Q: Gaussian distribution is not well suited for modelling discrete variables, why? What would you change? </font>**"
   ]
  },
  {
   "cell_type": "markdown",
   "metadata": {
    "slideshow": {
     "slide_type": "slide"
    }
   },
   "source": [
    "# Classification -- Bernoulli View\n",
    "\n",
    "We can model a target variable $y \\in \\{0,1\\}$  using Bernouli distribution\n",
    "\n",
    "$$\n",
    "p(y=1\\given\\theta) = \\theta\n",
    "$$\n",
    "\n",
    "We note that $\\theta$ has to be in range $[0,1]$\n",
    "\n",
    "We cannot directly take weighted combination of features to obtain $\\theta$\n",
    "\n",
    "We need a way to map $\\xx^T\\beta \\in \\mathbb{R}$ to range $[0,1]$"
   ]
  },
  {
   "cell_type": "markdown",
   "metadata": {
    "slideshow": {
     "slide_type": "slide"
    }
   },
   "source": [
    "# Sigmoid (Logistic) Function\n",
    "\n",
    "$$\n",
    "\\sigma(z) = \\frac{1}{1 + \\exp(-z)}\n",
    "$$\n",
    "\n",
    "**<font color='red'> Q: Argue that this function maps real line  to range $[0,1]$?  </font>**\n",
    "\n",
    "**<font color='red'> Q: When does it achieve $0.5$? </font>**\n",
    "\n",
    "**<font color='red'>  Q: Where does it achieve $0$? Where does it achieve $1$? </font>**"
   ]
  },
  {
   "cell_type": "code",
   "execution_count": 1,
   "metadata": {
    "slideshow": {
     "slide_type": "slide"
    }
   },
   "outputs": [
    {
     "data": {
      "text/plain": [
       "<matplotlib.legend.Legend at 0x8a75940>"
      ]
     },
     "execution_count": 1,
     "metadata": {},
     "output_type": "execute_result"
    },
    {
     "data": {
      "image/png": "[encoded data removed]",
      "text/plain": [
       "<Figure size 432x288 with 1 Axes>"
      ]
     },
     "metadata": {},
     "output_type": "display_data"
    }
   ],
   "source": [
    "import numpy\n",
    "import matplotlib.pyplot as plt\n",
    "%matplotlib inline\n",
    "x = numpy.arange(-10,10,0.1)\n",
    "scales = [1.0,0.5,2.0,10.0]\n",
    "labels = []\n",
    "for s in scales:\n",
    "    plt.plot(x,1.0/(1.0 + numpy.exp(-s*x)))\n",
    "    labels.append('sigma(' + str(s) +'*x)')\n",
    "plt.xlabel('x')\n",
    "plt.title('Sigmoid')\n",
    "plt.legend(labels,loc=4)"
   ]
  },
  {
   "cell_type": "markdown",
   "metadata": {
    "slideshow": {
     "slide_type": "slide"
    }
   },
   "source": [
    "# Some Useful Equalities Involving Sigmoid\n",
    "\n",
    "Definition:\n",
    "\n",
    "$$\n",
    "\\sigma(z) = \\frac{1}{1  + \\exp(-z)}\n",
    "$$\n",
    "\n",
    "Recognize the alternative way to write it:\n",
    "\n",
    "$$\n",
    "\\sigma(z) = \\frac{\\exp z}{1 + \\exp z} \n",
    "$$\n",
    "\n",
    "Complement is just flip of the sign in the argument\n",
    "\n",
    "$$\n",
    "\\sigma(-z) = 1 - \\sigma(z) \n",
    "$$\n",
    "\n",
    "Log ratio of probability (log odds) \n",
    "\n",
    "$$\n",
    "\\log \\frac{\\sigma(z)}{\\sigma(-z)} = z\n",
    "$$"
   ]
  },
  {
   "cell_type": "markdown",
   "metadata": {
    "slideshow": {
     "slide_type": "slide"
    }
   },
   "source": [
    "# Using Sigmoid to Parameterize Bernoulli\n",
    "\n",
    "$$\n",
    "p(y=1|\\theta) = \\theta\n",
    "$$\n",
    "\n",
    "Sigmoid \"squashes\" the whole real line into range $[0,1]$\n",
    "\n",
    "Hence we can map weighted features into a parameter $\\theta$\n",
    "\n",
    "$$\n",
    "\\theta = \\sigma(\\beta_0 + \\xx^T\\beta) \n",
    "$$\n",
    "\n",
    "and use that $\\theta$  in our Bernoulli\n",
    "\n",
    "$$\n",
    "p(y=1\\given\\theta=\\sigma(\\beta_0 + \\xx^T\\beta) ) = \\sigma(\\beta_0 + \\xx^T\\beta) \n",
    "$$\n",
    "\n"
   ]
  },
  {
   "cell_type": "markdown",
   "metadata": {
    "slideshow": {
     "slide_type": "slide"
    }
   },
   "source": [
    "# Logistic Regression -- Binary Classification\n",
    "\n",
    "In logistic regression we model a binary variable $\\color{red}{y \\in \\{-1,+1\\}}$\n",
    "\n",
    "$$\n",
    "\\begin{aligned}\n",
    "p({\\color{blue}{y=+1}}\\given\\xx,\\beta_0,\\beta) &= \\sigmoid{{\\color{blue}{+}}(\\beta_0 + \\xx^T\\beta)}\\\\\n",
    "p({\\color{red}{y=-1}}\\given\\xx,\\beta_0,\\beta) &= 1 - \\sigmoid{-(\\beta_0 + \\xx^T\\beta)} = \\sigmoid{{\\color{red}{-}}(\\beta_0 + \\xx^T\\beta)} \n",
    "\\end{aligned}\n",
    "$$\n",
    "\n",
    "This is equivalent to\n",
    "\n",
    "$$\n",
    "p(y\\given\\xx,\\beta_0,\\beta) = \n",
    "\\sigmoid{{\\color{green}{y}}(\\beta_0 + \\xx^T\\beta)} = \n",
    "\\frac{1}{1 + \\myexp{-y(\\beta_0 + \\xx^T\\beta)}}\n",
    "$$\n",
    "\n",
    "**<font color='red'> Q: Does above formula work for $y \\in \\{0,1\\}$? </font>**"
   ]
  },
  {
   "cell_type": "markdown",
   "metadata": {
    "slideshow": {
     "slide_type": "slide"
    }
   },
   "source": [
    "# Logistic Regression -- Decision Boundary\n",
    "\n",
    "$$\n",
    "p(y=1\\given\\xx,\\beta_0,\\beta) = \n",
    "\\sigmoid{(\\beta_0 + \\xx^T\\beta)}= \n",
    "\\frac{1}{1 + \\myexp{-(\\beta_0 + \\xx^T\\beta)}}\n",
    "$$\n",
    "\n",
    "$$\n",
    "\\sigma(z) = \\frac{1}{1  + \\exp(-z)}\n",
    "$$\n",
    "\n",
    "* Suppose predict \"$y=1$\" if \n",
    "\n",
    "$$\n",
    "p(y=1\\given\\xx,\\beta_0,\\beta) \\geq 0.5 \\rightarrow \\beta_0 + \\xx^T\\beta \\geq 0 \n",
    "$$\n",
    "    \n",
    "* Then predict \"$y=-1$\" if \n",
    "\n",
    "$$\n",
    "p(y=1\\given\\xx,\\beta_0,\\beta) < 0.5 \\rightarrow \\beta_0 + \\xx^T\\beta < 0\n",
    "$$\n",
    "    \n",
    "* Hence, the decision boundary is given by $\\beta_0 + \\xx^T\\beta$ $=$ 0\n",
    "\n",
    "**<font color='red'> Q: What does this decision boundary equation describe? </font>**"
   ]
  },
  {
   "cell_type": "markdown",
   "metadata": {
    "slideshow": {
     "slide_type": "slide"
    }
   },
   "source": [
    "* Assume a 2D problem with two features $x_1$ and $x_2$, then\n",
    "$$\n",
    "p(y=1\\given\\xx,\\beta_0,\\beta) = \n",
    "\\sigmoid{(\\beta_0 + \\beta_1 x_1 + \\beta_2 x_2)}= \n",
    "\\frac{1}{1 + \\myexp{-(\\beta_0 + \\beta_1 x_1 + \\beta_2 x_2)}}\n",
    "$$\n",
    "$$\n",
    "\\beta_0 + \\beta_1 x_1 + \\beta_2 x_2 = 0 \\rightarrow  x_2 = \\beta_0 - \\frac{\\beta_1}{\\beta_2} x_1\n",
    "$$\n",
    "* In logistic regression, we optimize $\\beta$s to find the **optimal decision boundary** between classes\n",
    "<img src=\"./Images/decisionboundary.gif\" width=\"900\" align=\"center\"/>"
   ]
  },
  {
   "cell_type": "markdown",
   "metadata": {
    "slideshow": {
     "slide_type": "slide"
    }
   },
   "source": [
    "# Logistic Regression -- Log-Likelihood\n",
    "\n",
    "Probability of a single sample is:\n",
    "$$\n",
    "p(y\\given\\xx,\\beta_0,\\beta) = \\frac{1}{1 + \\myexp{-y(\\beta_0 + \\xx^T\\beta)}}\n",
    "$$\n",
    "\n",
    "Likelihood function is:\n",
    "$$\n",
    "\\likelihood(\\beta_0,\\beta\\given\\yy,\\xx) = \\prod_i \\frac{1}{1 + \\myexp{-y_i(\\beta_0 + \\xx_i^T\\beta)}}\n",
    "$$\n",
    "\n",
    "Log-likelihood function is:\n",
    "$$\n",
    "\\loglik(\\beta_0,\\beta\\given\\yy,\\xx) = -\\sum_i \\log\\left\\{1 + \\myexp{-y_i(\\beta_0 + \\xx_i^T\\beta)} \\right\\}\n",
    "$$\n",
    "\n",
    "Follow the same recipe as before to find $\\beta$s that maximize the Log-likelihood function"
   ]
  },
  {
   "cell_type": "markdown",
   "metadata": {
    "slideshow": {
     "slide_type": "slide"
    }
   },
   "source": [
    "# Today\n",
    "\n",
    "1. Review regularized/penalized linear regression\n",
    "2. Introduce sigmoid and logistic regression\n",
    "3. Geometric interpretation of logistic regression"
   ]
  }
 ],
 "metadata": {
  "anaconda-cloud": {},
  "celltoolbar": "Slideshow",
  "kernelspec": {
   "display_name": "Python 2",
   "language": "python",
   "name": "python2"
  },
  "language_info": {
   "codemirror_mode": {
    "name": "ipython",
    "version": 2
   },
   "file_extension": ".py",
   "mimetype": "text/x-python",
   "name": "python",
   "nbconvert_exporter": "python",
   "pygments_lexer": "ipython2",
   "version": "2.7.15"
  }
 },
 "nbformat": 4,
 "nbformat_minor": 1
}
